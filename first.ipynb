{
 "cells": [
  {
   "cell_type": "code",
   "execution_count": 2,
   "metadata": {},
   "outputs": [],
   "source": [
    "import matplotlib.pyplot as plt\n",
    "import numpy as np\n",
    "from numpy import pi"
   ]
  },
  {
   "cell_type": "code",
   "execution_count": null,
   "metadata": {},
   "outputs": [],
   "source": []
  },
  {
   "cell_type": "code",
   "execution_count": null,
   "metadata": {},
   "outputs": [],
   "source": []
  },
  {
   "cell_type": "code",
   "execution_count": 3,
   "metadata": {},
   "outputs": [],
   "source": [
    "a=np.array([1,2,4,5,7,8])"
   ]
  },
  {
   "cell_type": "code",
   "execution_count": null,
   "metadata": {},
   "outputs": [],
   "source": []
  },
  {
   "cell_type": "code",
   "execution_count": 4,
   "metadata": {},
   "outputs": [],
   "source": [
    "b=a**3"
   ]
  },
  {
   "cell_type": "code",
   "execution_count": null,
   "metadata": {},
   "outputs": [],
   "source": []
  },
  {
   "cell_type": "code",
   "execution_count": 5,
   "metadata": {},
   "outputs": [
    {
     "data": {
      "text/plain": [
       "['Annotation',\n",
       " 'Arrow',\n",
       " 'Artist',\n",
       " 'AutoLocator',\n",
       " 'Axes',\n",
       " 'Button',\n",
       " 'Circle',\n",
       " 'Figure',\n",
       " 'FigureCanvasBase',\n",
       " 'FixedFormatter',\n",
       " 'FixedLocator',\n",
       " 'FormatStrFormatter',\n",
       " 'Formatter',\n",
       " 'FuncFormatter',\n",
       " 'GridSpec',\n",
       " 'IndexLocator',\n",
       " 'Line2D',\n",
       " 'LinearLocator',\n",
       " 'Locator',\n",
       " 'LogFormatter',\n",
       " 'LogFormatterExponent',\n",
       " 'LogFormatterMathtext',\n",
       " 'LogLocator',\n",
       " 'MaxNLocator',\n",
       " 'MultipleLocator',\n",
       " 'Normalize',\n",
       " 'NullFormatter',\n",
       " 'NullLocator',\n",
       " 'Number',\n",
       " 'PolarAxes',\n",
       " 'Polygon',\n",
       " 'Rectangle',\n",
       " 'ScalarFormatter',\n",
       " 'Slider',\n",
       " 'Subplot',\n",
       " 'SubplotTool',\n",
       " 'Text',\n",
       " 'TickHelper',\n",
       " 'Widget',\n",
       " '_INSTALL_FIG_OBSERVER',\n",
       " '_IP_REGISTERED',\n",
       " '__builtins__',\n",
       " '__cached__',\n",
       " '__doc__',\n",
       " '__file__',\n",
       " '__loader__',\n",
       " '__name__',\n",
       " '__package__',\n",
       " '__spec__',\n",
       " '_auto_draw_if_interactive',\n",
       " '_autogen_docstring',\n",
       " '_backend_mod',\n",
       " '_get_running_interactive_framework',\n",
       " '_interactive_bk',\n",
       " '_log',\n",
       " '_pylab_helpers',\n",
       " '_setp',\n",
       " '_setup_pyplot_info_docstrings',\n",
       " '_show',\n",
       " '_string_to_bool',\n",
       " 'acorr',\n",
       " 'angle_spectrum',\n",
       " 'annotate',\n",
       " 'arrow',\n",
       " 'autoscale',\n",
       " 'autumn',\n",
       " 'axes',\n",
       " 'axhline',\n",
       " 'axhspan',\n",
       " 'axis',\n",
       " 'axvline',\n",
       " 'axvspan',\n",
       " 'bar',\n",
       " 'barbs',\n",
       " 'barh',\n",
       " 'bone',\n",
       " 'box',\n",
       " 'boxplot',\n",
       " 'broken_barh',\n",
       " 'cla',\n",
       " 'clabel',\n",
       " 'clf',\n",
       " 'clim',\n",
       " 'close',\n",
       " 'cm',\n",
       " 'cohere',\n",
       " 'colorbar',\n",
       " 'colormaps',\n",
       " 'connect',\n",
       " 'contour',\n",
       " 'contourf',\n",
       " 'cool',\n",
       " 'copper',\n",
       " 'csd',\n",
       " 'cycler',\n",
       " 'dedent',\n",
       " 'delaxes',\n",
       " 'deprecated',\n",
       " 'disconnect',\n",
       " 'docstring',\n",
       " 'draw',\n",
       " 'draw_all',\n",
       " 'draw_if_interactive',\n",
       " 'errorbar',\n",
       " 'eventplot',\n",
       " 'figaspect',\n",
       " 'figimage',\n",
       " 'figlegend',\n",
       " 'fignum_exists',\n",
       " 'figtext',\n",
       " 'figure',\n",
       " 'fill',\n",
       " 'fill_between',\n",
       " 'fill_betweenx',\n",
       " 'findobj',\n",
       " 'flag',\n",
       " 'gca',\n",
       " 'gcf',\n",
       " 'gci',\n",
       " 'get',\n",
       " 'get_backend',\n",
       " 'get_cmap',\n",
       " 'get_current_fig_manager',\n",
       " 'get_figlabels',\n",
       " 'get_fignums',\n",
       " 'get_plot_commands',\n",
       " 'get_scale_docs',\n",
       " 'get_scale_names',\n",
       " 'getp',\n",
       " 'ginput',\n",
       " 'gray',\n",
       " 'grid',\n",
       " 'hexbin',\n",
       " 'hist',\n",
       " 'hist2d',\n",
       " 'hlines',\n",
       " 'hot',\n",
       " 'hsv',\n",
       " 'importlib',\n",
       " 'imread',\n",
       " 'imsave',\n",
       " 'imshow',\n",
       " 'inferno',\n",
       " 'inspect',\n",
       " 'install_repl_displayhook',\n",
       " 'interactive',\n",
       " 'ioff',\n",
       " 'ion',\n",
       " 'isinteractive',\n",
       " 'jet',\n",
       " 'legend',\n",
       " 'locator_params',\n",
       " 'logging',\n",
       " 'loglog',\n",
       " 'magma',\n",
       " 'magnitude_spectrum',\n",
       " 'margins',\n",
       " 'matplotlib',\n",
       " 'matshow',\n",
       " 'minorticks_off',\n",
       " 'minorticks_on',\n",
       " 'mlab',\n",
       " 'new_figure_manager',\n",
       " 'nipy_spectral',\n",
       " 'np',\n",
       " 'pause',\n",
       " 'pcolor',\n",
       " 'pcolormesh',\n",
       " 'phase_spectrum',\n",
       " 'pie',\n",
       " 'pink',\n",
       " 'plasma',\n",
       " 'plot',\n",
       " 'plot_date',\n",
       " 'plotfile',\n",
       " 'plotting',\n",
       " 'polar',\n",
       " 'prism',\n",
       " 'psd',\n",
       " 'pylab_setup',\n",
       " 'quiver',\n",
       " 'quiverkey',\n",
       " 'rc',\n",
       " 'rcParams',\n",
       " 'rcParamsDefault',\n",
       " 'rcParamsOrig',\n",
       " 'rc_context',\n",
       " 'rcdefaults',\n",
       " 'rcsetup',\n",
       " 're',\n",
       " 'register_cmap',\n",
       " 'rgrids',\n",
       " 'savefig',\n",
       " 'sca',\n",
       " 'scatter',\n",
       " 'sci',\n",
       " 'semilogx',\n",
       " 'semilogy',\n",
       " 'set_cmap',\n",
       " 'setp',\n",
       " 'show',\n",
       " 'silent_list',\n",
       " 'specgram',\n",
       " 'spring',\n",
       " 'spy',\n",
       " 'stackplot',\n",
       " 'stem',\n",
       " 'step',\n",
       " 'streamplot',\n",
       " 'style',\n",
       " 'subplot',\n",
       " 'subplot2grid',\n",
       " 'subplot_tool',\n",
       " 'subplots',\n",
       " 'subplots_adjust',\n",
       " 'summer',\n",
       " 'suptitle',\n",
       " 'switch_backend',\n",
       " 'sys',\n",
       " 'table',\n",
       " 'text',\n",
       " 'thetagrids',\n",
       " 'tick_params',\n",
       " 'ticklabel_format',\n",
       " 'tight_layout',\n",
       " 'time',\n",
       " 'title',\n",
       " 'tricontour',\n",
       " 'tricontourf',\n",
       " 'tripcolor',\n",
       " 'triplot',\n",
       " 'twinx',\n",
       " 'twiny',\n",
       " 'uninstall_repl_displayhook',\n",
       " 'violinplot',\n",
       " 'viridis',\n",
       " 'vlines',\n",
       " 'waitforbuttonpress',\n",
       " 'warn_deprecated',\n",
       " 'warnings',\n",
       " 'winter',\n",
       " 'xcorr',\n",
       " 'xkcd',\n",
       " 'xlabel',\n",
       " 'xlim',\n",
       " 'xscale',\n",
       " 'xticks',\n",
       " 'ylabel',\n",
       " 'ylim',\n",
       " 'yscale',\n",
       " 'yticks']"
      ]
     },
     "execution_count": 5,
     "metadata": {},
     "output_type": "execute_result"
    }
   ],
   "source": [
    "dir(plt)"
   ]
  },
  {
   "cell_type": "code",
   "execution_count": 10,
   "metadata": {
    "scrolled": true
   },
   "outputs": [
    {
     "data": {
      "text/plain": [
       "[<matplotlib.lines.Line2D at 0x7f6d080283c8>]"
      ]
     },
     "execution_count": 10,
     "metadata": {},
     "output_type": "execute_result"
    },
    {
     "data": {
      "image/png": "[encoded data removed]",
      "text/plain": [
       "<Figure size 432x288 with 1 Axes>"
      ]
     },
     "metadata": {
      "needs_background": "light"
     },
     "output_type": "display_data"
    }
   ],
   "source": [
    "plt.plot(a,b,'#008000')"
   ]
  },
  {
   "cell_type": "code",
   "execution_count": 18,
   "metadata": {},
   "outputs": [],
   "source": [
    "x=np.linspace(0,2*pi,1000)"
   ]
  },
  {
   "cell_type": "code",
   "execution_count": null,
   "metadata": {},
   "outputs": [],
   "source": []
  },
  {
   "cell_type": "code",
   "execution_count": 13,
   "metadata": {},
   "outputs": [
    {
     "data": {
      "text/plain": [
       "array([0.        , 0.6981317 , 1.3962634 , 2.0943951 , 2.7925268 ,\n",
       "       3.4906585 , 4.1887902 , 4.88692191, 5.58505361, 6.28318531])"
      ]
     },
     "execution_count": 13,
     "metadata": {},
     "output_type": "execute_result"
    }
   ],
   "source": [
    "x"
   ]
  },
  {
   "cell_type": "code",
   "execution_count": 24,
   "metadata": {},
   "outputs": [],
   "source": [
    "y=np.sin(x)\n",
    "z=np.cos(x)"
   ]
  },
  {
   "cell_type": "code",
   "execution_count": null,
   "metadata": {},
   "outputs": [],
   "source": []
  },
  {
   "cell_type": "code",
   "execution_count": null,
   "metadata": {},
   "outputs": [],
   "source": []
  },
  {
   "cell_type": "code",
   "execution_count": 22,
   "metadata": {},
   "outputs": [
    {
     "data": {
      "text/plain": [
       "array([ 0.00000000e+00,  6.28943332e-03,  1.25786178e-02,  1.88673048e-02,\n",
       "        2.51552454e-02,  3.14421909e-02,  3.77278927e-02,  4.40121020e-02,\n",
       "        5.02945704e-02,  5.65750492e-02,  6.28532900e-02,  6.91290446e-02,\n",
       "        7.54020646e-02,  8.16721019e-02,  8.79389084e-02,  9.42022363e-02,\n",
       "        1.00461838e-01,  1.06717465e-01,  1.12968871e-01,  1.19215809e-01,\n",
       "        1.25458030e-01,  1.31695289e-01,  1.37927338e-01,  1.44153931e-01,\n",
       "        1.50374822e-01,  1.56589764e-01,  1.62798512e-01,  1.69000820e-01,\n",
       "        1.75196443e-01,  1.81385136e-01,  1.87566653e-01,  1.93740751e-01,\n",
       "        1.99907185e-01,  2.06065711e-01,  2.12216086e-01,  2.18358066e-01,\n",
       "        2.24491409e-01,  2.30615871e-01,  2.36731210e-01,  2.42837185e-01,\n",
       "        2.48933554e-01,  2.55020076e-01,  2.61096510e-01,  2.67162616e-01,\n",
       "        2.73218154e-01,  2.79262883e-01,  2.85296566e-01,  2.91318963e-01,\n",
       "        2.97329837e-01,  3.03328948e-01,  3.09316061e-01,  3.15290939e-01,\n",
       "        3.21253344e-01,  3.27203041e-01,  3.33139795e-01,  3.39063370e-01,\n",
       "        3.44973534e-01,  3.50870051e-01,  3.56752688e-01,  3.62621214e-01,\n",
       "        3.68475395e-01,  3.74315000e-01,  3.80139798e-01,  3.85949559e-01,\n",
       "        3.91744053e-01,  3.97523050e-01,  4.03286322e-01,  4.09033642e-01,\n",
       "        4.14764781e-01,  4.20479513e-01,  4.26177612e-01,  4.31858853e-01,\n",
       "        4.37523010e-01,  4.43169861e-01,  4.48799180e-01,  4.54410746e-01,\n",
       "        4.60004337e-01,  4.65579732e-01,  4.71136709e-01,  4.76675049e-01,\n",
       "        4.82194534e-01,  4.87694944e-01,  4.93176062e-01,  4.98637671e-01,\n",
       "        5.04079556e-01,  5.09501500e-01,  5.14903290e-01,  5.20284712e-01,\n",
       "        5.25645553e-01,  5.30985600e-01,  5.36304643e-01,  5.41602472e-01,\n",
       "        5.46878875e-01,  5.52133646e-01,  5.57366576e-01,  5.62577458e-01,\n",
       "        5.67766086e-01,  5.72932255e-01,  5.78075760e-01,  5.83196397e-01,\n",
       "        5.88293965e-01,  5.93368262e-01,  5.98419086e-01,  6.03446239e-01,\n",
       "        6.08449521e-01,  6.13428734e-01,  6.18383682e-01,  6.23314168e-01,\n",
       "        6.28219997e-01,  6.33100976e-01,  6.37956911e-01,  6.42787610e-01,\n",
       "        6.47592882e-01,  6.52372537e-01,  6.57126385e-01,  6.61854240e-01,\n",
       "        6.66555913e-01,  6.71231219e-01,  6.75879973e-01,  6.80501991e-01,\n",
       "        6.85097090e-01,  6.89665089e-01,  6.94205806e-01,  6.98719062e-01,\n",
       "        7.03204679e-01,  7.07662479e-01,  7.12092285e-01,  7.16493923e-01,\n",
       "        7.20867219e-01,  7.25211999e-01,  7.29528091e-01,  7.33815325e-01,\n",
       "        7.38073532e-01,  7.42302542e-01,  7.46502188e-01,  7.50672305e-01,\n",
       "        7.54812728e-01,  7.58923291e-01,  7.63003834e-01,  7.67054195e-01,\n",
       "        7.71074213e-01,  7.75063729e-01,  7.79022586e-01,  7.82950626e-01,\n",
       "        7.86847695e-01,  7.90713639e-01,  7.94548304e-01,  7.98351539e-01,\n",
       "        8.02123193e-01,  8.05863117e-01,  8.09571163e-01,  8.13247185e-01,\n",
       "        8.16891037e-01,  8.20502575e-01,  8.24081656e-01,  8.27628139e-01,\n",
       "        8.31141882e-01,  8.34622748e-01,  8.38070599e-01,  8.41485297e-01,\n",
       "        8.44866709e-01,  8.48214700e-01,  8.51529138e-01,  8.54809891e-01,\n",
       "        8.58056831e-01,  8.61269828e-01,  8.64448755e-01,  8.67593488e-01,\n",
       "        8.70703900e-01,  8.73779870e-01,  8.76821275e-01,  8.79827996e-01,\n",
       "        8.82799913e-01,  8.85736908e-01,  8.88638867e-01,  8.91505673e-01,\n",
       "        8.94337213e-01,  8.97133376e-01,  8.99894051e-01,  9.02619128e-01,\n",
       "        9.05308500e-01,  9.07962060e-01,  9.10579704e-01,  9.13161327e-01,\n",
       "        9.15706829e-01,  9.18216107e-01,  9.20689063e-01,  9.23125599e-01,\n",
       "        9.25525619e-01,  9.27889027e-01,  9.30215731e-01,  9.32505637e-01,\n",
       "        9.34758657e-01,  9.36974699e-01,  9.39153678e-01,  9.41295506e-01,\n",
       "        9.43400098e-01,  9.45467373e-01,  9.47497247e-01,  9.49489640e-01,\n",
       "        9.51444475e-01,  9.53361672e-01,  9.55241158e-01,  9.57082856e-01,\n",
       "        9.58886695e-01,  9.60652602e-01,  9.62380509e-01,  9.64070347e-01,\n",
       "        9.65722048e-01,  9.67335548e-01,  9.68910783e-01,  9.70447691e-01,\n",
       "        9.71946209e-01,  9.73406281e-01,  9.74827847e-01,  9.76210851e-01,\n",
       "        9.77555239e-01,  9.78860957e-01,  9.80127955e-01,  9.81356181e-01,\n",
       "        9.82545587e-01,  9.83696126e-01,  9.84807753e-01,  9.85880423e-01,\n",
       "        9.86914095e-01,  9.87908727e-01,  9.88864280e-01,  9.89780716e-01,\n",
       "        9.90657999e-01,  9.91496094e-01,  9.92294968e-01,  9.93054589e-01,\n",
       "        9.93774928e-01,  9.94455956e-01,  9.95097645e-01,  9.95699972e-01,\n",
       "        9.96262911e-01,  9.96786440e-01,  9.97270539e-01,  9.97715189e-01,\n",
       "        9.98120372e-01,  9.98486072e-01,  9.98812274e-01,  9.99098966e-01,\n",
       "        9.99346136e-01,  9.99553775e-01,  9.99721874e-01,  9.99850427e-01,\n",
       "        9.99939428e-01,  9.99988874e-01,  9.99998764e-01,  9.99969096e-01,\n",
       "        9.99899872e-01,  9.99791094e-01,  9.99642768e-01,  9.99454898e-01,\n",
       "        9.99227492e-01,  9.98960560e-01,  9.98654111e-01,  9.98308158e-01,\n",
       "        9.97922715e-01,  9.97497797e-01,  9.97033420e-01,  9.96529603e-01,\n",
       "        9.95986366e-01,  9.95403731e-01,  9.94781719e-01,  9.94120357e-01,\n",
       "        9.93419671e-01,  9.92679687e-01,  9.91900435e-01,  9.91081947e-01,\n",
       "        9.90224253e-01,  9.89327390e-01,  9.88391391e-01,  9.87416293e-01,\n",
       "        9.86402137e-01,  9.85348960e-01,  9.84256806e-01,  9.83125718e-01,\n",
       "        9.81955739e-01,  9.80746917e-01,  9.79499299e-01,  9.78212935e-01,\n",
       "        9.76887875e-01,  9.75524172e-01,  9.74121880e-01,  9.72681055e-01,\n",
       "        9.71201752e-01,  9.69684032e-01,  9.68127953e-01,  9.66533578e-01,\n",
       "        9.64900969e-01,  9.63230191e-01,  9.61521310e-01,  9.59774394e-01,\n",
       "        9.57989512e-01,  9.56166735e-01,  9.54306134e-01,  9.52407783e-01,\n",
       "        9.50471757e-01,  9.48498134e-01,  9.46486990e-01,  9.44438405e-01,\n",
       "        9.42352462e-01,  9.40229241e-01,  9.38068827e-01,  9.35871306e-01,\n",
       "        9.33636764e-01,  9.31365289e-01,  9.29056973e-01,  9.26711905e-01,\n",
       "        9.24330180e-01,  9.21911890e-01,  9.19457131e-01,  9.16966002e-01,\n",
       "        9.14438599e-01,  9.11875024e-01,  9.09275378e-01,  9.06639763e-01,\n",
       "        9.03968283e-01,  9.01261046e-01,  8.98518156e-01,  8.95739724e-01,\n",
       "        8.92925858e-01,  8.90076671e-01,  8.87192274e-01,  8.84272783e-01,\n",
       "        8.81318312e-01,  8.78328979e-01,  8.75304901e-01,  8.72246198e-01,\n",
       "        8.69152992e-01,  8.66025404e-01,  8.62863558e-01,  8.59667580e-01,\n",
       "        8.56437596e-01,  8.53173733e-01,  8.49876121e-01,  8.46544890e-01,\n",
       "        8.43180172e-01,  8.39782100e-01,  8.36350809e-01,  8.32886434e-01,\n",
       "        8.29389112e-01,  8.25858981e-01,  8.22296182e-01,  8.18700854e-01,\n",
       "        8.15073141e-01,  8.11413186e-01,  8.07721134e-01,  8.03997130e-01,\n",
       "        8.00241323e-01,  7.96453860e-01,  7.92634891e-01,  7.88784567e-01,\n",
       "        7.84903042e-01,  7.80990468e-01,  7.77046999e-01,  7.73072793e-01,\n",
       "        7.69068007e-01,  7.65032797e-01,  7.60967326e-01,  7.56871752e-01,\n",
       "        7.52746238e-01,  7.48590948e-01,  7.44406046e-01,  7.40191697e-01,\n",
       "        7.35948067e-01,  7.31675326e-01,  7.27373642e-01,  7.23043184e-01,\n",
       "        7.18684125e-01,  7.14296636e-01,  7.09880892e-01,  7.05437067e-01,\n",
       "        7.00965337e-01,  6.96465878e-01,  6.91938869e-01,  6.87384489e-01,\n",
       "        6.82802917e-01,  6.78194336e-01,  6.73558927e-01,  6.68896874e-01,\n",
       "        6.64208361e-01,  6.59493574e-01,  6.54752698e-01,  6.49985923e-01,\n",
       "        6.45193436e-01,  6.40375427e-01,  6.35532086e-01,  6.30663605e-01,\n",
       "        6.25770177e-01,  6.20851995e-01,  6.15909254e-01,  6.10942149e-01,\n",
       "        6.05950876e-01,  6.00935634e-01,  5.95896621e-01,  5.90834035e-01,\n",
       "        5.85748078e-01,  5.80638949e-01,  5.75506853e-01,  5.70351991e-01,\n",
       "        5.65174567e-01,  5.59974786e-01,  5.54752854e-01,  5.49508978e-01,\n",
       "        5.44243365e-01,  5.38956222e-01,  5.33647760e-01,  5.28318189e-01,\n",
       "        5.22967718e-01,  5.17596560e-01,  5.12204928e-01,  5.06793034e-01,\n",
       "        5.01361093e-01,  4.95909319e-01,  4.90437928e-01,  4.84947137e-01,\n",
       "        4.79437162e-01,  4.73908223e-01,  4.68360536e-01,  4.62794323e-01,\n",
       "        4.57209803e-01,  4.51607196e-01,  4.45986726e-01,  4.40348613e-01,\n",
       "        4.34693081e-01,  4.29020354e-01,  4.23330656e-01,  4.17624212e-01,\n",
       "        4.11901248e-01,  4.06161991e-01,  4.00406666e-01,  3.94635503e-01,\n",
       "        3.88848729e-01,  3.83046573e-01,  3.77229264e-01,  3.71397034e-01,\n",
       "        3.65550112e-01,  3.59688730e-01,  3.53813119e-01,  3.47923513e-01,\n",
       "        3.42020143e-01,  3.36103245e-01,  3.30173050e-01,  3.24229795e-01,\n",
       "        3.18273715e-01,  3.12305044e-01,  3.06324020e-01,  3.00330878e-01,\n",
       "        2.94325855e-01,  2.88309190e-01,  2.82281120e-01,  2.76241884e-01,\n",
       "        2.70191721e-01,  2.64130869e-01,  2.58059569e-01,  2.51978061e-01,\n",
       "        2.45886586e-01,  2.39785383e-01,  2.33674696e-01,  2.27554765e-01,\n",
       "        2.21425832e-01,  2.15288141e-01,  2.09141933e-01,  2.02987452e-01,\n",
       "        1.96824941e-01,  1.90654645e-01,  1.84476807e-01,  1.78291671e-01,\n",
       "        1.72099483e-01,  1.65900487e-01,  1.59694928e-01,  1.53483052e-01,\n",
       "        1.47265105e-01,  1.41041332e-01,  1.34811980e-01,  1.28577295e-01,\n",
       "        1.22337524e-01,  1.16092914e-01,  1.09843712e-01,  1.03590164e-01,\n",
       "        9.73325184e-02,  9.10710227e-02,  8.48059245e-02,  7.85374716e-02,\n",
       "        7.22659119e-02,  6.59914936e-02,  5.97144649e-02,  5.34350740e-02,\n",
       "        4.71535694e-02,  4.08701994e-02,  3.45852128e-02,  2.82988581e-02,\n",
       "        2.20113839e-02,  1.57230391e-02,  9.43407223e-03,  3.14473221e-03,\n",
       "       -3.14473221e-03, -9.43407223e-03, -1.57230391e-02, -2.20113839e-02,\n",
       "       -2.82988581e-02, -3.45852128e-02, -4.08701994e-02, -4.71535694e-02,\n",
       "       -5.34350740e-02, -5.97144649e-02, -6.59914936e-02, -7.22659119e-02,\n",
       "       -7.85374716e-02, -8.48059245e-02, -9.10710227e-02, -9.73325184e-02,\n",
       "       -1.03590164e-01, -1.09843712e-01, -1.16092914e-01, -1.22337524e-01,\n",
       "       -1.28577295e-01, -1.34811980e-01, -1.41041332e-01, -1.47265105e-01,\n",
       "       -1.53483052e-01, -1.59694928e-01, -1.65900487e-01, -1.72099483e-01,\n",
       "       -1.78291671e-01, -1.84476807e-01, -1.90654645e-01, -1.96824941e-01,\n",
       "       -2.02987452e-01, -2.09141933e-01, -2.15288141e-01, -2.21425832e-01,\n",
       "       -2.27554765e-01, -2.33674696e-01, -2.39785383e-01, -2.45886586e-01,\n",
       "       -2.51978061e-01, -2.58059569e-01, -2.64130869e-01, -2.70191721e-01,\n",
       "       -2.76241884e-01, -2.82281120e-01, -2.88309190e-01, -2.94325855e-01,\n",
       "       -3.00330878e-01, -3.06324020e-01, -3.12305044e-01, -3.18273715e-01,\n",
       "       -3.24229795e-01, -3.30173050e-01, -3.36103245e-01, -3.42020143e-01,\n",
       "       -3.47923513e-01, -3.53813119e-01, -3.59688730e-01, -3.65550112e-01,\n",
       "       -3.71397034e-01, -3.77229264e-01, -3.83046573e-01, -3.88848729e-01,\n",
       "       -3.94635503e-01, -4.00406666e-01, -4.06161991e-01, -4.11901248e-01,\n",
       "       -4.17624212e-01, -4.23330656e-01, -4.29020354e-01, -4.34693081e-01,\n",
       "       -4.40348613e-01, -4.45986726e-01, -4.51607196e-01, -4.57209803e-01,\n",
       "       -4.62794323e-01, -4.68360536e-01, -4.73908223e-01, -4.79437162e-01,\n",
       "       -4.84947137e-01, -4.90437928e-01, -4.95909319e-01, -5.01361093e-01,\n",
       "       -5.06793034e-01, -5.12204928e-01, -5.17596560e-01, -5.22967718e-01,\n",
       "       -5.28318189e-01, -5.33647760e-01, -5.38956222e-01, -5.44243365e-01,\n",
       "       -5.49508978e-01, -5.54752854e-01, -5.59974786e-01, -5.65174567e-01,\n",
       "       -5.70351991e-01, -5.75506853e-01, -5.80638949e-01, -5.85748078e-01,\n",
       "       -5.90834035e-01, -5.95896621e-01, -6.00935634e-01, -6.05950876e-01,\n",
       "       -6.10942149e-01, -6.15909254e-01, -6.20851995e-01, -6.25770177e-01,\n",
       "       -6.30663605e-01, -6.35532086e-01, -6.40375427e-01, -6.45193436e-01,\n",
       "       -6.49985923e-01, -6.54752698e-01, -6.59493574e-01, -6.64208361e-01,\n",
       "       -6.68896874e-01, -6.73558927e-01, -6.78194336e-01, -6.82802917e-01,\n",
       "       -6.87384489e-01, -6.91938869e-01, -6.96465878e-01, -7.00965337e-01,\n",
       "       -7.05437067e-01, -7.09880892e-01, -7.14296636e-01, -7.18684125e-01,\n",
       "       -7.23043184e-01, -7.27373642e-01, -7.31675326e-01, -7.35948067e-01,\n",
       "       -7.40191697e-01, -7.44406046e-01, -7.48590948e-01, -7.52746238e-01,\n",
       "       -7.56871752e-01, -7.60967326e-01, -7.65032797e-01, -7.69068007e-01,\n",
       "       -7.73072793e-01, -7.77046999e-01, -7.80990468e-01, -7.84903042e-01,\n",
       "       -7.88784567e-01, -7.92634891e-01, -7.96453860e-01, -8.00241323e-01,\n",
       "       -8.03997130e-01, -8.07721134e-01, -8.11413186e-01, -8.15073141e-01,\n",
       "       -8.18700854e-01, -8.22296182e-01, -8.25858981e-01, -8.29389112e-01,\n",
       "       -8.32886434e-01, -8.36350809e-01, -8.39782100e-01, -8.43180172e-01,\n",
       "       -8.46544890e-01, -8.49876121e-01, -8.53173733e-01, -8.56437596e-01,\n",
       "       -8.59667580e-01, -8.62863558e-01, -8.66025404e-01, -8.69152992e-01,\n",
       "       -8.72246198e-01, -8.75304901e-01, -8.78328979e-01, -8.81318312e-01,\n",
       "       -8.84272783e-01, -8.87192274e-01, -8.90076671e-01, -8.92925858e-01,\n",
       "       -8.95739724e-01, -8.98518156e-01, -9.01261046e-01, -9.03968283e-01,\n",
       "       -9.06639763e-01, -9.09275378e-01, -9.11875024e-01, -9.14438599e-01,\n",
       "       -9.16966002e-01, -9.19457131e-01, -9.21911890e-01, -9.24330180e-01,\n",
       "       -9.26711905e-01, -9.29056973e-01, -9.31365289e-01, -9.33636764e-01,\n",
       "       -9.35871306e-01, -9.38068827e-01, -9.40229241e-01, -9.42352462e-01,\n",
       "       -9.44438405e-01, -9.46486990e-01, -9.48498134e-01, -9.50471757e-01,\n",
       "       -9.52407783e-01, -9.54306134e-01, -9.56166735e-01, -9.57989512e-01,\n",
       "       -9.59774394e-01, -9.61521310e-01, -9.63230191e-01, -9.64900969e-01,\n",
       "       -9.66533578e-01, -9.68127953e-01, -9.69684032e-01, -9.71201752e-01,\n",
       "       -9.72681055e-01, -9.74121880e-01, -9.75524172e-01, -9.76887875e-01,\n",
       "       -9.78212935e-01, -9.79499299e-01, -9.80746917e-01, -9.81955739e-01,\n",
       "       -9.83125718e-01, -9.84256806e-01, -9.85348960e-01, -9.86402137e-01,\n",
       "       -9.87416293e-01, -9.88391391e-01, -9.89327390e-01, -9.90224253e-01,\n",
       "       -9.91081947e-01, -9.91900435e-01, -9.92679687e-01, -9.93419671e-01,\n",
       "       -9.94120357e-01, -9.94781719e-01, -9.95403731e-01, -9.95986366e-01,\n",
       "       -9.96529603e-01, -9.97033420e-01, -9.97497797e-01, -9.97922715e-01,\n",
       "       -9.98308158e-01, -9.98654111e-01, -9.98960560e-01, -9.99227492e-01,\n",
       "       -9.99454898e-01, -9.99642768e-01, -9.99791094e-01, -9.99899872e-01,\n",
       "       -9.99969096e-01, -9.99998764e-01, -9.99988874e-01, -9.99939428e-01,\n",
       "       -9.99850427e-01, -9.99721874e-01, -9.99553775e-01, -9.99346136e-01,\n",
       "       -9.99098966e-01, -9.98812274e-01, -9.98486072e-01, -9.98120372e-01,\n",
       "       -9.97715189e-01, -9.97270539e-01, -9.96786440e-01, -9.96262911e-01,\n",
       "       -9.95699972e-01, -9.95097645e-01, -9.94455956e-01, -9.93774928e-01,\n",
       "       -9.93054589e-01, -9.92294968e-01, -9.91496094e-01, -9.90657999e-01,\n",
       "       -9.89780716e-01, -9.88864280e-01, -9.87908727e-01, -9.86914095e-01,\n",
       "       -9.85880423e-01, -9.84807753e-01, -9.83696126e-01, -9.82545587e-01,\n",
       "       -9.81356181e-01, -9.80127955e-01, -9.78860957e-01, -9.77555239e-01,\n",
       "       -9.76210851e-01, -9.74827847e-01, -9.73406281e-01, -9.71946209e-01,\n",
       "       -9.70447691e-01, -9.68910783e-01, -9.67335548e-01, -9.65722048e-01,\n",
       "       -9.64070347e-01, -9.62380509e-01, -9.60652602e-01, -9.58886695e-01,\n",
       "       -9.57082856e-01, -9.55241158e-01, -9.53361672e-01, -9.51444475e-01,\n",
       "       -9.49489640e-01, -9.47497247e-01, -9.45467373e-01, -9.43400098e-01,\n",
       "       -9.41295506e-01, -9.39153678e-01, -9.36974699e-01, -9.34758657e-01,\n",
       "       -9.32505637e-01, -9.30215731e-01, -9.27889027e-01, -9.25525619e-01,\n",
       "       -9.23125599e-01, -9.20689063e-01, -9.18216107e-01, -9.15706829e-01,\n",
       "       -9.13161327e-01, -9.10579704e-01, -9.07962060e-01, -9.05308500e-01,\n",
       "       -9.02619128e-01, -8.99894051e-01, -8.97133376e-01, -8.94337213e-01,\n",
       "       -8.91505673e-01, -8.88638867e-01, -8.85736908e-01, -8.82799913e-01,\n",
       "       -8.79827996e-01, -8.76821275e-01, -8.73779870e-01, -8.70703900e-01,\n",
       "       -8.67593488e-01, -8.64448755e-01, -8.61269828e-01, -8.58056831e-01,\n",
       "       -8.54809891e-01, -8.51529138e-01, -8.48214700e-01, -8.44866709e-01,\n",
       "       -8.41485297e-01, -8.38070599e-01, -8.34622748e-01, -8.31141882e-01,\n",
       "       -8.27628139e-01, -8.24081656e-01, -8.20502575e-01, -8.16891037e-01,\n",
       "       -8.13247185e-01, -8.09571163e-01, -8.05863117e-01, -8.02123193e-01,\n",
       "       -7.98351539e-01, -7.94548304e-01, -7.90713639e-01, -7.86847695e-01,\n",
       "       -7.82950626e-01, -7.79022586e-01, -7.75063729e-01, -7.71074213e-01,\n",
       "       -7.67054195e-01, -7.63003834e-01, -7.58923291e-01, -7.54812728e-01,\n",
       "       -7.50672305e-01, -7.46502188e-01, -7.42302542e-01, -7.38073532e-01,\n",
       "       -7.33815325e-01, -7.29528091e-01, -7.25211999e-01, -7.20867219e-01,\n",
       "       -7.16493923e-01, -7.12092285e-01, -7.07662479e-01, -7.03204679e-01,\n",
       "       -6.98719062e-01, -6.94205806e-01, -6.89665089e-01, -6.85097090e-01,\n",
       "       -6.80501991e-01, -6.75879973e-01, -6.71231219e-01, -6.66555913e-01,\n",
       "       -6.61854240e-01, -6.57126385e-01, -6.52372537e-01, -6.47592882e-01,\n",
       "       -6.42787610e-01, -6.37956911e-01, -6.33100976e-01, -6.28219997e-01,\n",
       "       -6.23314168e-01, -6.18383682e-01, -6.13428734e-01, -6.08449521e-01,\n",
       "       -6.03446239e-01, -5.98419086e-01, -5.93368262e-01, -5.88293965e-01,\n",
       "       -5.83196397e-01, -5.78075760e-01, -5.72932255e-01, -5.67766086e-01,\n",
       "       -5.62577458e-01, -5.57366576e-01, -5.52133646e-01, -5.46878875e-01,\n",
       "       -5.41602472e-01, -5.36304643e-01, -5.30985600e-01, -5.25645553e-01,\n",
       "       -5.20284712e-01, -5.14903290e-01, -5.09501500e-01, -5.04079556e-01,\n",
       "       -4.98637671e-01, -4.93176062e-01, -4.87694944e-01, -4.82194534e-01,\n",
       "       -4.76675049e-01, -4.71136709e-01, -4.65579732e-01, -4.60004337e-01,\n",
       "       -4.54410746e-01, -4.48799180e-01, -4.43169861e-01, -4.37523010e-01,\n",
       "       -4.31858853e-01, -4.26177612e-01, -4.20479513e-01, -4.14764781e-01,\n",
       "       -4.09033642e-01, -4.03286322e-01, -3.97523050e-01, -3.91744053e-01,\n",
       "       -3.85949559e-01, -3.80139798e-01, -3.74315000e-01, -3.68475395e-01,\n",
       "       -3.62621214e-01, -3.56752688e-01, -3.50870051e-01, -3.44973534e-01,\n",
       "       -3.39063370e-01, -3.33139795e-01, -3.27203041e-01, -3.21253344e-01,\n",
       "       -3.15290939e-01, -3.09316061e-01, -3.03328948e-01, -2.97329837e-01,\n",
       "       -2.91318963e-01, -2.85296566e-01, -2.79262883e-01, -2.73218154e-01,\n",
       "       -2.67162616e-01, -2.61096510e-01, -2.55020076e-01, -2.48933554e-01,\n",
       "       -2.42837185e-01, -2.36731210e-01, -2.30615871e-01, -2.24491409e-01,\n",
       "       -2.18358066e-01, -2.12216086e-01, -2.06065711e-01, -1.99907185e-01,\n",
       "       -1.93740751e-01, -1.87566653e-01, -1.81385136e-01, -1.75196443e-01,\n",
       "       -1.69000820e-01, -1.62798512e-01, -1.56589764e-01, -1.50374822e-01,\n",
       "       -1.44153931e-01, -1.37927338e-01, -1.31695289e-01, -1.25458030e-01,\n",
       "       -1.19215809e-01, -1.12968871e-01, -1.06717465e-01, -1.00461838e-01,\n",
       "       -9.42022363e-02, -8.79389084e-02, -8.16721019e-02, -7.54020646e-02,\n",
       "       -6.91290446e-02, -6.28532900e-02, -5.65750492e-02, -5.02945704e-02,\n",
       "       -4.40121020e-02, -3.77278927e-02, -3.14421909e-02, -2.51552454e-02,\n",
       "       -1.88673048e-02, -1.25786178e-02, -6.28943332e-03, -2.44929360e-16])"
      ]
     },
     "execution_count": 22,
     "metadata": {},
     "output_type": "execute_result"
    }
   ],
   "source": [
    "y"
   ]
  },
  {
   "cell_type": "code",
   "execution_count": null,
   "metadata": {},
   "outputs": [],
   "source": []
  },
  {
   "cell_type": "code",
   "execution_count": null,
   "metadata": {},
   "outputs": [],
   "source": []
  },
  {
   "cell_type": "code",
   "execution_count": 42,
   "metadata": {},
   "outputs": [
    {
     "data": {
      "image/png": "[encoded data removed]",
      "text/plain": [
       "<Figure size 432x288 with 1 Axes>"
      ]
     },
     "metadata": {
      "needs_background": "light"
     },
     "output_type": "display_data"
    }
   ],
   "source": [
    "plt.plot(x,y,color=\"red\",label='sin')\n",
    "plt.plot(x,z,'-.',label='cos')\n",
    "plt.legend()\n",
    "plt.show()\n"
   ]
  },
  {
   "cell_type": "code",
   "execution_count": null,
   "metadata": {},
   "outputs": [],
   "source": []
  },
  {
   "cell_type": "code",
   "execution_count": null,
   "metadata": {},
   "outputs": [],
   "source": []
  },
  {
   "cell_type": "code",
   "execution_count": null,
   "metadata": {},
   "outputs": [],
   "source": []
  },
  {
   "cell_type": "code",
   "execution_count": null,
   "metadata": {},
   "outputs": [],
   "source": []
  },
  {
   "cell_type": "code",
   "execution_count": 38,
   "metadata": {},
   "outputs": [
    {
     "data": {
      "text/plain": [
       "[<matplotlib.lines.Line2D at 0x7f6d0774f6d8>]"
      ]
     },
     "execution_count": 38,
     "metadata": {},
     "output_type": "execute_result"
    },
    {
     "data": {
      "image/png": "[encoded data removed]",
      "text/plain": [
       "<Figure size 432x288 with 1 Axes>"
      ]
     },
     "metadata": {
      "needs_background": "light"
     },
     "output_type": "display_data"
    }
   ],
   "source": [
    "plt.xlabel('angles')\n",
    "plt.ylabel('sin(x)')\n",
    "plt.grid(color='black')\n",
    "plt.plot(x,y)"
   ]
  },
  {
   "cell_type": "code",
   "execution_count": null,
   "metadata": {},
   "outputs": [],
   "source": []
  },
  {
   "cell_type": "code",
   "execution_count": null,
   "metadata": {},
   "outputs": [],
   "source": []
  },
  {
   "cell_type": "code",
   "execution_count": null,
   "metadata": {},
   "outputs": [],
   "source": []
  },
  {
   "cell_type": "code",
   "execution_count": null,
   "metadata": {},
   "outputs": [],
   "source": []
  },
  {
   "cell_type": "code",
   "execution_count": 35,
   "metadata": {},
   "outputs": [
    {
     "data": {
      "text/plain": [
       "[<matplotlib.lines.Line2D at 0x7f6d07841588>,\n",
       " <matplotlib.lines.Line2D at 0x7f6d07841710>]"
      ]
     },
     "execution_count": 35,
     "metadata": {},
     "output_type": "execute_result"
    },
    {
     "data": {
      "image/png": "[encoded data removed]",
      "text/plain": [
       "<Figure size 432x288 with 1 Axes>"
      ]
     },
     "metadata": {
      "needs_background": "light"
     },
     "output_type": "display_data"
    }
   ],
   "source": [
    "plt.plot(x,y,'-.',x,z,'b')"
   ]
  },
  {
   "cell_type": "code",
   "execution_count": null,
   "metadata": {},
   "outputs": [],
   "source": []
  },
  {
   "cell_type": "code",
   "execution_count": null,
   "metadata": {},
   "outputs": [],
   "source": []
  },
  {
   "cell_type": "code",
   "execution_count": null,
   "metadata": {},
   "outputs": [],
   "source": []
  },
  {
   "cell_type": "code",
   "execution_count": 31,
   "metadata": {},
   "outputs": [
    {
     "data": {
      "text/plain": [
       "<BarContainer object of 6 artists>"
      ]
     },
     "execution_count": 31,
     "metadata": {},
     "output_type": "execute_result"
    },
    {
     "data": {
      "image/png": "[encoded data removed]",
      "text/plain": [
       "<Figure size 432x288 with 1 Axes>"
      ]
     },
     "metadata": {
      "needs_background": "light"
     },
     "output_type": "display_data"
    }
   ],
   "source": [
    "plt.bar(a,b,color='red')"
   ]
  },
  {
   "cell_type": "code",
   "execution_count": 6,
   "metadata": {},
   "outputs": [
    {
     "data": {
      "text/plain": [
       "<BarContainer object of 6 artists>"
      ]
     },
     "execution_count": 6,
     "metadata": {},
     "output_type": "execute_result"
    },
    {
     "data": {
      "image/png": "[encoded data removed]",
      "text/plain": [
       "<Figure size 432x288 with 1 Axes>"
      ]
     },
     "metadata": {
      "needs_background": "light"
     },
     "output_type": "display_data"
    }
   ],
   "source": [
    "plt.scatter(a,b,marker='^',color='green')\n",
    "plt.bar(a,b)"
   ]
  },
  {
   "cell_type": "code",
   "execution_count": 9,
   "metadata": {},
   "outputs": [
    {
     "data": {
      "text/plain": [
       "<BarContainer object of 6 artists>"
      ]
     },
     "execution_count": 9,
     "metadata": {},
     "output_type": "execute_result"
    },
    {
     "data": {
      "image/png": "[encoded data removed]",
      "text/plain": [
       "<Figure size 432x288 with 1 Axes>"
      ]
     },
     "metadata": {
      "needs_background": "light"
     },
     "output_type": "display_data"
    }
   ],
   "source": [
    "plt.barh(a,b)"
   ]
  },
  {
   "cell_type": "code",
   "execution_count": null,
   "metadata": {},
   "outputs": [],
   "source": []
  },
  {
   "cell_type": "code",
   "execution_count": null,
   "metadata": {},
   "outputs": [],
   "source": []
  },
  {
   "cell_type": "code",
   "execution_count": null,
   "metadata": {},
   "outputs": [],
   "source": []
  },
  {
   "cell_type": "code",
   "execution_count": null,
   "metadata": {},
   "outputs": [],
   "source": []
  },
  {
   "cell_type": "code",
   "execution_count": null,
   "metadata": {},
   "outputs": [],
   "source": []
  },
  {
   "cell_type": "code",
   "execution_count": null,
   "metadata": {},
   "outputs": [
    {
     "data": {
      "text/plain": [
       "([<matplotlib.patches.Wedge at 0x7f6d0714da20>,\n",
       "  <matplotlib.patches.Wedge at 0x7f6d0714def0>,\n",
       "  <matplotlib.patches.Wedge at 0x7f6d07169400>,\n",
       "  <matplotlib.patches.Wedge at 0x7f6d071698d0>,\n",
       "  <matplotlib.patches.Wedge at 0x7f6d07169da0>,\n",
       "  <matplotlib.patches.Wedge at 0x7f6d071712b0>],\n",
       " [Text(2.085800551046731, 0.24379512147119406, ''),\n",
       "  Text(8.132057012780885, 4.084072568023395, ''),\n",
       "  Text(25.784792250943482, 59.77586878143792, ''),\n",
       "  Text(-75.30169771222992, 101.14773512865203, ''),\n",
       "  Text(-307.49899822924345, -154.4317845782134, ''),\n",
       "  Text(306.4020512813809, -411.56942667132364, '')])"
      ]
     },
     "execution_count": 48,
     "metadata": {},
     "output_type": "execute_result"
    }
   ],
   "source": []
  },
  {
   "cell_type": "code",
   "execution_count": null,
   "metadata": {},
   "outputs": [],
   "source": []
  },
  {
   "cell_type": "code",
   "execution_count": null,
   "metadata": {},
   "outputs": [],
   "source": []
  },
  {
   "cell_type": "code",
   "execution_count": null,
   "metadata": {},
   "outputs": [],
   "source": []
  },
  {
   "cell_type": "code",
   "execution_count": null,
   "metadata": {},
   "outputs": [],
   "source": []
  },
  {
   "cell_type": "code",
   "execution_count": null,
   "metadata": {},
   "outputs": [],
   "source": []
  },
  {
   "cell_type": "code",
   "execution_count": null,
   "metadata": {},
   "outputs": [],
   "source": []
  },
  {
   "cell_type": "code",
   "execution_count": null,
   "metadata": {},
   "outputs": [],
   "source": []
  },
  {
   "cell_type": "code",
   "execution_count": null,
   "metadata": {},
   "outputs": [],
   "source": []
  },
  {
   "cell_type": "code",
   "execution_count": null,
   "metadata": {},
   "outputs": [],
   "source": []
  },
  {
   "cell_type": "code",
   "execution_count": null,
   "metadata": {},
   "outputs": [],
   "source": []
  },
  {
   "cell_type": "code",
   "execution_count": null,
   "metadata": {},
   "outputs": [],
   "source": []
  },
  {
   "cell_type": "code",
   "execution_count": null,
   "metadata": {},
   "outputs": [],
   "source": []
  },
  {
   "cell_type": "code",
   "execution_count": null,
   "metadata": {},
   "outputs": [],
   "source": []
  },
  {
   "cell_type": "code",
   "execution_count": null,
   "metadata": {},
   "outputs": [],
   "source": []
  },
  {
   "cell_type": "code",
   "execution_count": null,
   "metadata": {},
   "outputs": [],
   "source": []
  },
  {
   "cell_type": "code",
   "execution_count": null,
   "metadata": {},
   "outputs": [],
   "source": []
  },
  {
   "cell_type": "code",
   "execution_count": null,
   "metadata": {},
   "outputs": [],
   "source": []
  }
 ],
 "metadata": {
  "kernelspec": {
   "display_name": "Python 3",
   "language": "python",
   "name": "python3"
  },
  "language_info": {
   "codemirror_mode": {
    "name": "ipython",
    "version": 3
   },
   "file_extension": ".py",
   "mimetype": "text/x-python",
   "name": "python",
   "nbconvert_exporter": "python",
   "pygments_lexer": "ipython3",
   "version": "3.6.7"
  }
 },
 "nbformat": 4,
 "nbformat_minor": 2
}
